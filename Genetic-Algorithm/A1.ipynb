{
 "cells": [
  {
   "cell_type": "markdown",
   "metadata": {
    "tags": []
   },
   "source": [
    "## Solve knapsack problem using genetic algorithm\n",
    "\n",
    "In this project we are going to see how genetic algorithm works and how answers(chromosomes that shows the combination of picking products) are getting better by time and how much crossover and mutation are important in this process. "
   ]
  },
  {
   "cell_type": "markdown",
   "metadata": {},
   "source": [
    "we want to find a way to picking up products to satisfy given constraints(min value, max capacity, number of products)\n",
    "we do this by following genetic algorithm steps(selection, crossover, mutation)\n",
    "first generate a random initial population(answers) and then try to make them better such that have the max value and also satisfy all 3 constraints.(maximum fitness)"
   ]
  },
  {
   "cell_type": "markdown",
   "metadata": {},
   "source": [
    "import required libraries"
   ]
  },
  {
   "cell_type": "code",
   "execution_count": 1,
   "metadata": {},
   "outputs": [],
   "source": [
    "import random\n",
    "from matplotlib import pyplot as plt\n",
    "import csv"
   ]
  },
  {
   "cell_type": "code",
   "execution_count": 2,
   "metadata": {},
   "outputs": [],
   "source": [
    "#products = [product(\"Nani\",5,5), product(\"Doogh-e-Abali\",15,10), product(\"MazMaz\",10,10), product(\"Jooj\",7,15), product(\"Hot-Dog\",20,15)]\n",
    "\n",
    "CAPACITY = float(input())\n",
    "MIN_VALUE = float(input())\n",
    "MIN = int(input())\n",
    "MAX = int(input())\n",
    "\n",
    "# CAPACITY = 10\n",
    "# MIN_VALUE = 12\n",
    "# MIN = 2\n",
    "# MAX = 4\n",
    "\n",
    "MUTATION_PROB = 0.09\n",
    "CROSSOVER_PROB = 0.75\n",
    "\n",
    "values = []\n",
    "max_values = []"
   ]
  },
  {
   "cell_type": "code",
   "execution_count": 3,
   "metadata": {},
   "outputs": [],
   "source": [
    "class product:\n",
    "    def __init__(self, name, weight, value):\n",
    "        self.name = name\n",
    "        self.weight = weight\n",
    "        self.value = value\n",
    "        "
   ]
  },
  {
   "cell_type": "code",
   "execution_count": 4,
   "metadata": {},
   "outputs": [],
   "source": [
    "products = []\n",
    "with open(\"snacks.csv\", 'r') as file:\n",
    "    csvreader = csv.reader(file)\n",
    "    header = next(csvreader)\n",
    "    for row in csvreader:\n",
    "        products.append(product(row[0], float(row[1]), float(row[2])))"
   ]
  },
  {
   "cell_type": "markdown",
   "metadata": {},
   "source": [
    "### Part 1: Basic Concepts\n",
    "define gene as float that shows how much we pick from a product.\n",
    "define chromosome as an array of genes (array of floats) that each index in array is for one of the products. length of this array is equal to number of products.(chromosome is like a combination of picking items)"
   ]
  },
  {
   "cell_type": "markdown",
   "metadata": {},
   "source": [
    "### Part 3: Fitness Function\n",
    "the fitness function determines how good is our chromosome and we show this by sum of all value that we gain by picking that combination of products and actually use the most capacity and also satisfy those 3 constraints. if all 3 didn't hold at the same time we return 0.\n",
    "so we define fitness function as bellow:\n",
    "### $$fitness = \\frac{sumValue}{CAPACITY - sumWeight}$$\n",
    "\n",
    "\n",
    "$$sumValue = \\Sigma bits_i values_i$$\n",
    "$$sumWeight = \\Sigma bits_i weights_i$$"
   ]
  },
  {
   "cell_type": "code",
   "execution_count": 5,
   "metadata": {},
   "outputs": [],
   "source": [
    "class chromosome:\n",
    "    def __init__(self, bits):\n",
    "        self.bits = bits\n",
    "    def fitness(self):\n",
    "        sum_value = 0\n",
    "        sum_weight = 0\n",
    "        count = 0;\n",
    "        for i in range(len(products)):\n",
    "            sum_value += products[i].value * self.bits[i]\n",
    "            sum_weight += products[i].weight * self.bits[i]\n",
    "            if self.bits[i] != 0:\n",
    "                count += 1\n",
    "        if(sum_weight <= CAPACITY and sum_value >= MIN_VALUE and count <= MAX and count >= MIN):\n",
    "            return (sum_value  / (CAPACITY - sum_weight))\n",
    "        return 0\n"
   ]
  },
  {
   "cell_type": "markdown",
   "metadata": {},
   "source": [
    "### Part 2: Generate Initial Population \n",
    "`num` = size of population\n",
    "\n",
    "first we assume that each chromosome is an array of zeros and after that we randomly change them.\n",
    "as we know that the number of products should be in given range we pick a random number in this range(k) and fill k random cells from chromosome array by a random float. we repeat this until the population size to be equal num.\n",
    "    \n",
    "another way to create the first chromosome is to randomly create combination and after that check the number of products range using fitness function but it takes more time than this way.    \n"
   ]
  },
  {
   "cell_type": "code",
   "execution_count": 6,
   "metadata": {},
   "outputs": [],
   "source": [
    "def generate_initial_population(num):\n",
    "    population = set()\n",
    "    while(len(population) < num):\n",
    "        combination = [0 for _ in range(len(products))]\n",
    "\n",
    "        k = random.randint(MIN, MAX + 1)\n",
    "        p = [i for i in range(len(products))]\n",
    "        indexes = random.choices(p, k = k)\n",
    "        for ind in indexes:\n",
    "            combination[ind] = random.uniform(0, 1)\n",
    "        c = chromosome(combination)\n",
    "        population.add((c, c.fitness()))\n",
    "    return list(population)    "
   ]
  },
  {
   "cell_type": "markdown",
   "metadata": {},
   "source": [
    "for selection , first we sort the population by `fitness()` and return first quarter as parents."
   ]
  },
  {
   "cell_type": "code",
   "execution_count": 7,
   "metadata": {},
   "outputs": [],
   "source": [
    "def selection(population):\n",
    "    parents = []\n",
    "\n",
    "    population.sort(key = lambda x: x[0].fitness(), reverse = True)\n",
    "\n",
    "    parents = population[:len(population) // 4]\n",
    "    return parents\n",
    "    "
   ]
  },
  {
   "cell_type": "markdown",
   "metadata": {},
   "source": [
    "### Part 4: Implementing Crossover and Mutation and Generating Next Population\n",
    "\n",
    "#### Crossover\n",
    "we get `parents` and we should generate `m - len(parents)` children and return them.\n",
    "\n",
    "1.we pick two parents \n",
    "\n",
    "2.generate random number and if it wat less that `CROSSOVER_PROB` we do crossover.\n",
    "\n",
    "3.randomly generate an index for one point crossover\n",
    "\n",
    "4.create two children\n",
    "\n",
    "and we repeat this until we have  `m - len(parents)` children.\n",
    "ans return all new children that we create.\n",
    "\n",
    "#### Mutation\n",
    "after crossover we should do mutation on those outputs so we give `after_crossover` to this function and for each chromosome we if the probability was less that `MUTATION_PROB` we randomly choose one index and flip it(if it was 0 we change it to a random float and otherwise change it to 0)\n",
    "and we return all chromosomes(both changes and unchanged)\n",
    "\n",
    "#### Generate Next Population\n",
    "first by calling `selection()` we select 1/4 of the best chromosome from the last population and pass them without changes to the next generation.\n",
    "then we call `crossover()` by the best 1/2 of chromosomes and do crossover on them and as the population size should be the same we must generate m - len(parents) children cause we pass parents to next generation before. after that we call `mutation()`.\n",
    "and add results after mutation to next generation too."
   ]
  },
  {
   "cell_type": "code",
   "execution_count": 8,
   "metadata": {},
   "outputs": [],
   "source": [
    "def crossover(parents, m):\n",
    "    n = len(products)\n",
    "    after_crossover = []\n",
    "    ind = 0\n",
    "    random.shuffle(parents)\n",
    "    while len(after_crossover) < m - len(parents):\n",
    "            i = ind % len(parents)\n",
    "            if random.random() < CROSSOVER_PROB:\n",
    "                index = random.randint(1, n - 2)\n",
    "\n",
    "                child_1 = parents[i][0].bits[:index] + parents[i + 1][0].bits[index:]\n",
    "                child_2 = parents[i + 1][0].bits[:index] + parents[i][0].bits[index:]\n",
    "                c_1 = chromosome(child_1)\n",
    "                c_2 = chromosome(child_2)\n",
    "                \n",
    "                # if c_1.fitness() != 0:\n",
    "                #     after_crossover.append((c_1, c_1.fitness()))\n",
    "                # if c_2.fitness() != 0:\n",
    "                #     after_crossover.append((c_2, c_2.fitness()))     \n",
    "                after_crossover += [(c_1, c_1.fitness()), (c_2, c_2.fitness())]\n",
    "                i += 1\n",
    "    return after_crossover"
   ]
  },
  {
   "cell_type": "code",
   "execution_count": 9,
   "metadata": {},
   "outputs": [],
   "source": [
    "def mutation(after_crossover):\n",
    "    after_mutation = []\n",
    "    for i in range(len(after_crossover)):\n",
    "        chromosome_size = len(after_crossover[0][0].bits)\n",
    "        after_mutation.append(after_crossover[i])\n",
    "        if random.random() < MUTATION_PROB:\n",
    "            bit = random.randint(0, chromosome_size - 1)\n",
    "            if after_mutation[i][0].bits[bit] == 0:\n",
    "                after_mutation[i][0].bits[bit] = random.uniform(0, 1)\n",
    "            else:\n",
    "                after_mutation[i][0].bits[bit] = 0       \n",
    "    return after_mutation"
   ]
  },
  {
   "cell_type": "code",
   "execution_count": 10,
   "metadata": {},
   "outputs": [],
   "source": [
    "def generate_next_generation(population):\n",
    "    next = []\n",
    "\n",
    "    parents = selection(population)\n",
    "    next += parents\n",
    "\n",
    "    population.sort(key = lambda x: x[0].fitness(), reverse = True)\n",
    "    after_crossover = crossover(population[:len(population)// 3], len(population))\n",
    "    \n",
    "    after_mutation = mutation(after_crossover) \n",
    "    \n",
    "    # for chromosome in after_mutation:\n",
    "    #     if chromosome[0].fitness() != 0:\n",
    "    #         next.append(chromosome)\n",
    "    next += after_mutation\n",
    "    return next "
   ]
  },
  {
   "cell_type": "markdown",
   "metadata": {},
   "source": [
    "calculate average fitness of a population."
   ]
  },
  {
   "cell_type": "code",
   "execution_count": 11,
   "metadata": {},
   "outputs": [],
   "source": [
    "def avg_fitness(population):\n",
    "    sum = 0\n",
    "    for i in range(len(population)):\n",
    "        sum += population[i][0].fitness()\n",
    "    return sum  / len(population)  "
   ]
  },
  {
   "cell_type": "markdown",
   "metadata": {},
   "source": [
    "### Part 5: Running the Genetic Algorithm \n",
    "generate first population and then repeat generating next population by calling `generate_next_generation()`\n",
    "after all we sort and return the chromosome with the most fitness()."
   ]
  },
  {
   "cell_type": "code",
   "execution_count": 12,
   "metadata": {},
   "outputs": [],
   "source": [
    "def knapsack():\n",
    "    population = generate_initial_population(100)\n",
    "    for i in range(100):\n",
    "        #print(i)\n",
    "        population = generate_next_generation(population)\n",
    "        population = sorted(population, key=lambda x: x[0].fitness(), reverse=True)\n",
    "        # for p in population:\n",
    "        #     print(p[0].fitness())  \n",
    "        max_values.append(population[0][0].fitness())\n",
    "        values.append(avg_fitness(population))\n",
    "         \n",
    "    population = sorted(population, key=lambda x: x[0].fitness(), reverse=True)\n",
    "    \n",
    "    return population[0][0].bits\n"
   ]
  },
  {
   "cell_type": "markdown",
   "metadata": {},
   "source": [
    "then we show the changes of Max Fitness over generations and Average Fitness over generations and we can see that the answer(Fitness) changes and become better over time and converge to a specific fitness."
   ]
  },
  {
   "cell_type": "code",
   "execution_count": 13,
   "metadata": {},
   "outputs": [
    {
     "name": "stdout",
     "output_type": "stream",
     "text": [
      "Jooj : 5.7244373862480105\n",
      "Chips : 1.6114560794165502\n",
      "Popcorn : 1.8901190946432926\n",
      "Pastil : 0.043288260589196104\n",
      "Masghati : 0.63047319826462\n",
      "Total Weight: 9.89977401916167\n",
      "Total Value: 15.868539145212443\n"
     ]
    },
    {
     "data": {
      "image/png": "[encoded data removed]",
      "text/plain": [
       "<Figure size 640x480 with 1 Axes>"
      ]
     },
     "metadata": {},
     "output_type": "display_data"
    }
   ],
   "source": [
    "result = knapsack()\n",
    "#print(result)\n",
    "sum_value = 0\n",
    "sum_weight = 0\n",
    "weights = [0 for _ in range(len(products))]\n",
    "for i in range(len(products)):\n",
    "    sum_value += products[i].value * result[i]\n",
    "    sum_weight += products[i].weight * result[i]\n",
    "    weights[i] = products[i].weight * result[i]\n",
    "\n",
    "#print(\"weights:\", weights)\n",
    "for i in range(len(products)):\n",
    "    if(weights[i] != 0):\n",
    "        print(products[i].name, ':', weights[i])\n",
    "print(\"Total Weight:\", sum_weight)\n",
    "print(\"Total Value:\", sum_value)\n",
    "\n",
    "x = []\n",
    "for i in range(1, 101):\n",
    "    x.append(i)\n",
    "plt.plot(x, values, label = \"Average Fitness\")\n",
    "plt.plot(x, max_values, label = \"Max Fitness\")\n",
    "plt.xlabel('Generations')\n",
    "plt.ylabel('Fitness')\n",
    "plt.legend()\n",
    "plt.show()"
   ]
  },
  {
   "cell_type": "markdown",
   "metadata": {},
   "source": [
    "#### Q1:\n",
    "if the population size be too small , the algorithm may not find the best answer because there isn't enough chromosome to select in each generation.\n",
    "if the population size be too large, the algorithm take a long time to find the best answer from each generation.\n",
    "\n",
    "#### Q2:\n",
    "it can prove the efficiency of algorithm because we have more chromosome to select but its not that much useful because we can delete those chromosomes that have lower fitness in each generation and keep the population size constant and use less memory. and also if population become bigger and bigger it takes more time to find the best answer.\n",
    "#### Q3:\n",
    "crossover create new chromosomes by combining two chromosomes but mutation change one gene of chromosomes.\n",
    "\n",
    "mutation is for escape from local maximum, crossover is for creating children with better fitness and improve chromosomes.\n",
    "\n",
    "crossover probability is much more than mutation probability.\n",
    "\n",
    "if we just use crossover we cant escape from local maximums. and if we just use mutation we can't create better chromosomes and find the best answer.\n",
    "\n",
    "#### Q4:\n",
    "we can change parameters like mutation probability , crossover probability or population size.these parameters are too effective.\n",
    "\n",
    "we can change selection approach, it can help crossover function to much create better children and change the max fitness.\n",
    "\n",
    "#### Q5:\n",
    "we can use uniform crossover instead of one point crossover to avoid bias.\n",
    "\n",
    "we can use mutation to escape from local maximums.(as we did)\n",
    "\n",
    "we can run the algorithm multiple times with different initial populations.\n",
    "\n",
    "#### Q6:\n",
    "algorithm stops after limited number of generations.(we can choose that limit according to our experience)\n",
    "\n"
   ]
  }
 ],
 "metadata": {
  "kernelspec": {
   "display_name": "Python 3",
   "language": "python",
   "name": "python3"
  },
  "language_info": {
   "codemirror_mode": {
    "name": "ipython",
    "version": 3
   },
   "file_extension": ".py",
   "mimetype": "text/x-python",
   "name": "python",
   "nbconvert_exporter": "python",
   "pygments_lexer": "ipython3",
   "version": "3.9.6"
  }
 },
 "nbformat": 4,
 "nbformat_minor": 2
}
